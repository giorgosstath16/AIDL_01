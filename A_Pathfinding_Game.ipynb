{
  "nbformat": 4,
  "nbformat_minor": 0,
  "metadata": {
    "colab": {
      "name": "A* Pathfinding Game.ipynb",
      "provenance": [],
      "authorship_tag": "ABX9TyMTykHgSok3P/mUQGnQNLAz",
      "include_colab_link": true
    },
    "kernelspec": {
      "name": "python3",
      "display_name": "Python 3"
    },
    "language_info": {
      "name": "python"
    }
  },
  "cells": [
    {
      "cell_type": "markdown",
      "metadata": {
        "id": "view-in-github",
        "colab_type": "text"
      },
      "source": [
        "<a href=\"https://colab.research.google.com/github/giorgosstath16/AIDL_01/blob/main/A_Pathfinding_Game.ipynb\" target=\"_parent\"><img src=\"https://colab.research.google.com/assets/colab-badge.svg\" alt=\"Open In Colab\"/></a>"
      ]
    },
    {
      "cell_type": "code",
      "execution_count": 1,
      "metadata": {
        "colab": {
          "base_uri": "https://localhost:8080/"
        },
        "id": "msOj_eJ2A7Bg",
        "outputId": "c05d1afd-8fac-48b5-ed58-14625b451003"
      },
      "outputs": [
        {
          "output_type": "stream",
          "name": "stdout",
          "text": [
            "Looking in indexes: https://pypi.org/simple, https://us-python.pkg.dev/colab-wheels/public/simple/\n",
            "Collecting pygame\n",
            "  Downloading pygame-2.1.2-cp37-cp37m-manylinux_2_17_x86_64.manylinux2014_x86_64.whl (21.8 MB)\n",
            "\u001b[K     |████████████████████████████████| 21.8 MB 1.2 MB/s \n",
            "\u001b[?25hInstalling collected packages: pygame\n",
            "Successfully installed pygame-2.1.2\n"
          ]
        }
      ],
      "source": [
        "!pip install pygame"
      ]
    },
    {
      "cell_type": "code",
      "source": [
        "import pygame\n",
        "import math\n",
        "from queue import PriorityQueue"
      ],
      "metadata": {
        "colab": {
          "base_uri": "https://localhost:8080/"
        },
        "id": "5OJdi3_fBGS1",
        "outputId": "213b4748-fa28-494f-c4b8-ac715540dfdc"
      },
      "execution_count": 2,
      "outputs": [
        {
          "output_type": "stream",
          "name": "stdout",
          "text": [
            "pygame 2.1.2 (SDL 2.0.16, Python 3.7.13)\n",
            "Hello from the pygame community. https://www.pygame.org/contribute.html\n"
          ]
        }
      ]
    },
    {
      "cell_type": "code",
      "source": [
        "#in order to run in a UNIX /Linux system and avoid 'pygame.error: No available video device'\n",
        "import os\n",
        "os.environ[\"SDL_VIDEODRIVER\"] = \"dummy\""
      ],
      "metadata": {
        "id": "ztpi2C7qBcHB"
      },
      "execution_count": 4,
      "outputs": []
    },
    {
      "cell_type": "markdown",
      "source": [
        "In order to run the game it is better to execute the .py file better locally,\n",
        "for faster results."
      ],
      "metadata": {
        "id": "26MN1SQ1fgiA"
      }
    },
    {
      "cell_type": "code",
      "source": [
        "# define window (size and caption)\n",
        "WIDTH = 800\n",
        "WIN = pygame.display.set_mode((WIDTH, WIDTH))\n",
        "pygame.display.set_caption(\"A* Path Finding Algorithm\")"
      ],
      "metadata": {
        "id": "sAiBj2udBJBG"
      },
      "execution_count": 5,
      "outputs": []
    },
    {
      "cell_type": "code",
      "source": [
        "# define colors\n",
        "RED = (255, 0, 0)\n",
        "GREEN = (0, 255, 0)\n",
        "BLUE = (0, 255, 0)\n",
        "YELLOW = (255, 255, 0)\n",
        "WHITE = (255, 255, 255)\n",
        "BLACK = (0, 0, 0)\n",
        "PURPLE = (128, 0, 128)\n",
        "ORANGE = (255, 165 ,0)\n",
        "GREY = (128, 128, 128)\n",
        "TURQUOISE = (64, 224, 208)"
      ],
      "metadata": {
        "id": "ztXFpYU1BzCg"
      },
      "execution_count": 6,
      "outputs": []
    },
    {
      "cell_type": "code",
      "source": [
        "# define spots (nodes) in the grid, in order to recall later\n",
        "# and keep track of them and its neighbours\n",
        "class Spot:\n",
        "  def __init__(self, row, col, width, total_rows):\n",
        "    self.row = row\n",
        "    self.col = col\n",
        "    self.x = row * width # define coordinates \n",
        "    self.y = col * width\n",
        "    self.color = WHITE # default color is white\n",
        "    self.neighbors = []\n",
        "    self.width = width\n",
        "    self.total_rows = total_rows\n",
        "\n",
        "  # return spot position on grid\n",
        "  def get_pos(self):\n",
        "    return self.row, self.col\n",
        "\n",
        "  # define position from spot state/color\n",
        "  def is_closed(self):\n",
        "    return self.color == RED\n",
        "\n",
        "  # define position from spot state/color\n",
        "  def is_open(self):\n",
        "    return self.color == GREEN\n",
        "\n",
        "  # define position from spot state/color\n",
        "  def is_barrier(self):\n",
        "    return self.color == BLACK\n",
        "\n",
        "  # define position from spot state/color\n",
        "  def is_start(self):\n",
        "    return self.color == ORANGE\n",
        "\n",
        "  # define position from spot state/color\n",
        "  def is_end(self):\n",
        "    return self.color == TURQUOISE\n",
        "\n",
        "  # reset color to default\n",
        "  def reset(self):\n",
        "    self.color = WHITE\n",
        "\n",
        "  # change state from white to orange if spot is the start\n",
        "  def make_start(self):\n",
        "    self.color = ORANGE\n",
        "\n",
        "  # change state from white to red if spot has been visited\n",
        "  def make_closed(self):\n",
        "    self.color = RED\n",
        "\n",
        "  # change state from white to green if current position\n",
        "  def make_open(self):\n",
        "    self.color = GREEN\n",
        "\n",
        "  # change state to black if spot is barrier\n",
        "  def make_barrier(self):\n",
        "    self.color = BLACK\n",
        "\n",
        "  # change state to turqoise if spot is the end/target\n",
        "  def make_end(self):\n",
        "    self.color = TURQUOISE\n",
        "\n",
        "  # create color trail\n",
        "  def make_path(self):\n",
        "    self.color = PURPLE\n",
        "\n",
        "  # create a rectangle\n",
        "  def draw(self, win):\n",
        "    pygame.draw.rect(win, self.color, (self.x, self.y, self.width, self.width))\n",
        "\n",
        "  # \n",
        "  def update_neighbors(self, grid):\n",
        "    self.neighbors = []\n",
        "    if self.row < self.total_rows - 1 and not grid[self.row + 1][self.col].is_barrier(): # DOWN\n",
        "      self.neighbors.append(grid[self.row + 1][self.col])\n",
        "\n",
        "    if self.row > 0 and not grid[self.row - 1][self.col].is_barrier(): # UP\n",
        "      self.neighbors.append(grid[self.row - 1][self.col])\n",
        "\n",
        "    if self.col < self.total_rows - 1 and not grid[self.row][self.col + 1].is_barrier(): # RIGHT\n",
        "      self.neighbors.append(grid[self.row][self.col + 1])\n",
        "\n",
        "    if self.col > 0 and not grid[self.row][self.col - 1].is_barrier(): # LEFT\n",
        "      self.neighbors.append(grid[self.row][self.col - 1])\n",
        "\n",
        "  # compare spots\n",
        "  def __lt__(self, other):\n",
        "    return False\n",
        "  \n",
        "    "
      ],
      "metadata": {
        "id": "VDYVMqZbB5ok"
      },
      "execution_count": 16,
      "outputs": []
    },
    {
      "cell_type": "code",
      "source": [
        "# define heuristic function between 2 points/spots (Manhattan)\n",
        "def h(p1, p2):\n",
        "\tx1, y1 = p1\n",
        "\tx2, y2 = p2\n",
        "\treturn abs(x1 - x2) + abs(y1 - y2)"
      ],
      "metadata": {
        "id": "Fgvpew0nGUBY"
      },
      "execution_count": 17,
      "outputs": []
    },
    {
      "cell_type": "code",
      "source": [
        "# generate the grid\n",
        "def make_grid(rows, width):\n",
        "\tgrid = []\n",
        "\tgap = width // rows\n",
        "\tfor i in range(rows):\n",
        "\t\tgrid.append([])\n",
        "\t\tfor j in range(rows):\n",
        "\t\t\tspot = Spot(i, j, gap, rows)\n",
        "\t\t\tgrid[i].append(spot)\n",
        "\n",
        "\treturn grid"
      ],
      "metadata": {
        "id": "fuRcjEZgG3tQ"
      },
      "execution_count": 18,
      "outputs": []
    },
    {
      "cell_type": "code",
      "source": [
        "# draw the grid\n",
        "def draw_grid(win, rows, width):\n",
        "\tgap = width // rows\n",
        "\tfor i in range(rows):\n",
        "\t\tpygame.draw.line(win, GREY, (0, i * gap), (width, i * gap))\n",
        "\t\tfor j in range(rows):\n",
        "\t\t\tpygame.draw.line(win, GREY, (j * gap, 0), (j * gap, width))"
      ],
      "metadata": {
        "id": "4fFwceNyH2O1"
      },
      "execution_count": 19,
      "outputs": []
    },
    {
      "cell_type": "code",
      "source": [
        "# draw spot w/ their colors\n",
        "def draw(win, grid, rows, width):\n",
        "\twin.fill(WHITE)\n",
        "\n",
        "\tfor row in grid:\n",
        "\t\tfor spot in row:\n",
        "\t\t\tspot.draw(win)\n",
        "\n",
        "\tdraw_grid(win, rows, width)\n",
        "\tpygame.display.update()"
      ],
      "metadata": {
        "id": "9_BTNRk7Ijdj"
      },
      "execution_count": 20,
      "outputs": []
    },
    {
      "cell_type": "code",
      "source": [
        "# figure which spot is clicked\n",
        "def get_clicked_pos(pos, rows, width):\n",
        "\tgap = width // rows\n",
        "\ty, x = pos\n",
        "\n",
        "\trow = y // gap\n",
        "\tcol = x // gap\n",
        "\n",
        "\treturn row, col"
      ],
      "metadata": {
        "id": "c9wFKctCKRxN"
      },
      "execution_count": 21,
      "outputs": []
    },
    {
      "cell_type": "code",
      "source": [
        "# define main function\n",
        "def main(win, width):\n",
        "\tROWS = 50\n",
        "\tgrid = make_grid(ROWS, width)\n",
        "\n",
        "  # define variables to track start/end positions\n",
        "\tstart = None\n",
        "\tend = None\n",
        "\n",
        "\trun = True\n",
        "\twhile run:\n",
        "    # draw grid praphics\n",
        "\t\tdraw(win, grid, ROWS, width)\n",
        "\t\tfor event in pygame.event.get():\n",
        "\t\t\tif event.type == pygame.QUIT:\n",
        "\t\t\t\trun = False\n",
        "\n",
        "\t\t\tif pygame.mouse.get_pressed()[0]: # if left mouse button pressed\n",
        "\t\t\t\tpos = pygame.mouse.get_pos()\n",
        "\t\t\t\trow, col = get_clicked_pos(pos, ROWS, width) # row & columns clicked\n",
        "\t\t\t\tspot = grid[row][col] \n",
        "\t\t\t\tif not start and spot != end: # add start point\n",
        "\t\t\t\t\tstart = spot\n",
        "\t\t\t\t\tstart.make_start()\n",
        "\n",
        "\t\t\t\telif not end and spot != start: # add end point\n",
        "\t\t\t\t\tend = spot\n",
        "\t\t\t\t\tend.make_end()\n",
        "\n",
        "\t\t\t\telif spot != end and spot != start: # if start/end points defined, every click->barriers\n",
        "\t\t\t\t\tspot.make_barrier()\n",
        "\n",
        "\t\t\telif pygame.mouse.get_pressed()[2]: # if left mouse button pressed\n",
        "        # right mouse click for spot reset\n",
        "\t\t\t\tpos = pygame.mouse.get_pos()\n",
        "\t\t\t\trow, col = get_clicked_pos(pos, ROWS, width)\n",
        "\t\t\t\tspot = grid[row][col]\n",
        "\t\t\t\tspot.reset()\n",
        "\t\t\t\tif spot == start:\n",
        "\t\t\t\t\tstart = None\n",
        "\t\t\t\telif spot == end:\n",
        "\t\t\t\t\tend = None\n",
        "\n",
        "      # A* algorithm control button\n",
        "\t\t\tif event.type == pygame.KEYDOWN:\n",
        "\t\t\t\tif event.key == pygame.K_SPACE and start and end:\n",
        "\t\t\t\t\tfor row in grid:\n",
        "\t\t\t\t\t\tfor spot in row:\n",
        "\t\t\t\t\t\t\tspot.update_neighbors(grid) \n",
        "\n",
        "\t\t\t\t\talgorithm(lambda: draw(win, grid, ROWS, width), grid, start, end)\n",
        "\n",
        "\t\t\t\tif event.key == pygame.K_c:\n",
        "\t\t\t\t\tstart = None\n",
        "\t\t\t\t\tend = None\n",
        "\t\t\t\t\tgrid = make_grid(ROWS, width)\n",
        "\n",
        "\tpygame.quit()\n"
      ],
      "metadata": {
        "id": "oXg2CqEPLdS3"
      },
      "execution_count": 22,
      "outputs": []
    },
    {
      "cell_type": "code",
      "source": [
        "# define search agent\n",
        "def algorithm(draw, grid, start, end):\n",
        "\tcount = 0\n",
        "\topen_set = PriorityQueue()\n",
        "\topen_set.put((0, count, start)) # add the start node\n",
        "\tcame_from = {} # dictionary as a node history logbook\n",
        "  # define the not start node functions to infinity until to be updated w/ score\n",
        "\tg_score = {spot: float(\"inf\") for row in grid for spot in row} \n",
        "\tg_score[start] = 0\n",
        "\tf_score = {spot: float(\"inf\") for row in grid for spot in row}\n",
        "\tf_score[start] = h(start.get_pos(), end.get_pos())\n",
        "\n",
        "\topen_set_hash = {start} # keep track object in the priority queue\n",
        "\n",
        "\twhile not open_set.empty():\n",
        "\t\tfor event in pygame.event.get():\n",
        "\t\t\tif event.type == pygame.QUIT:\n",
        "\t\t\t\tpygame.quit()\n",
        "\n",
        "\t\tcurrent = open_set.get()[2]\n",
        "\t\topen_set_hash.remove(current)\n",
        "\n",
        "    # graphic visualization of search agent activity\n",
        "\t\tif current == end:\n",
        "\t\t\treconstruct_path(came_from, end, draw)\n",
        "\t\t\tend.make_end()\n",
        "\t\t\treturn True\n",
        "\n",
        "\t\tfor neighbor in current.neighbors:\n",
        "\t\t\ttemp_g_score = g_score[current] + 1\n",
        "\n",
        "\t\t\tif temp_g_score < g_score[neighbor]:\n",
        "        # update values as a better path\n",
        "\t\t\t\tcame_from[neighbor] = current\n",
        "\t\t\t\tg_score[neighbor] = temp_g_score\n",
        "\t\t\t\tf_score[neighbor] = temp_g_score + h(neighbor.get_pos(), end.get_pos())\n",
        "\t\t\t\tif neighbor not in open_set_hash:\n",
        "\t\t\t\t\tcount += 1\n",
        "\t\t\t\t\topen_set.put((f_score[neighbor], count, neighbor))\n",
        "\t\t\t\t\topen_set_hash.add(neighbor)\n",
        "\t\t\t\t\tneighbor.make_open()\n",
        "\n",
        "\t\tdraw()\n",
        "\n",
        "\t\tif current != start:\n",
        "\t\t\tcurrent.make_closed()\n",
        "\n",
        "\treturn False\n"
      ],
      "metadata": {
        "id": "G01R4OrHQsrd"
      },
      "execution_count": 23,
      "outputs": []
    },
    {
      "cell_type": "code",
      "source": [
        "def reconstruct_path(came_from, current, draw):\n",
        "\twhile current in came_from:\n",
        "\t\tcurrent = came_from[current]\n",
        "\t\tcurrent.make_path()\n",
        "\t\tdraw()\n"
      ],
      "metadata": {
        "id": "ZFNC5jowA-wZ"
      },
      "execution_count": 24,
      "outputs": []
    },
    {
      "cell_type": "code",
      "source": [
        "main(WIN, WIDTH)"
      ],
      "metadata": {
        "id": "oDSIzGdMVihf"
      },
      "execution_count": null,
      "outputs": []
    }
  ]
}